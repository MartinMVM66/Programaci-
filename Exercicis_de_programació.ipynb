{
  "nbformat": 4,
  "nbformat_minor": 0,
  "metadata": {
    "colab": {
      "provenance": [],
      "authorship_tag": "ABX9TyNwgp1txY42IOoM8AzzY56o",
      "include_colab_link": true
    },
    "kernelspec": {
      "name": "python3",
      "display_name": "Python 3"
    },
    "language_info": {
      "name": "python"
    }
  },
  "cells": [
    {
      "cell_type": "markdown",
      "metadata": {
        "id": "view-in-github",
        "colab_type": "text"
      },
      "source": [
        "<a href=\"https://colab.research.google.com/github/MartinMVM66/Programaci-/blob/main/Exercicis_de_programaci%C3%B3.ipynb\" target=\"_parent\"><img src=\"https://colab.research.google.com/assets/colab-badge.svg\" alt=\"Open In Colab\"/></a>"
      ]
    },
    {
      "cell_type": "markdown",
      "source": [
        "Fer una variable que sigui python.  Fer un bucle for en que imprimeixi les lletres en cada columna, pero, que a la \"h\" deixi de printar. Quan la funcio sigui == h , que pari."
      ],
      "metadata": {
        "id": "b_VLMq_Kvckg"
      }
    },
    {
      "cell_type": "code",
      "execution_count": 7,
      "metadata": {
        "colab": {
          "base_uri": "https://localhost:8080/"
        },
        "id": "xENr4JN0uc4p",
        "outputId": "4ba8f5f4-f197-46f6-bfcb-fdd6450be17e"
      },
      "outputs": [
        {
          "output_type": "stream",
          "name": "stdout",
          "text": [
            "p\n",
            "y\n",
            "t\n",
            "h\n"
          ]
        }
      ],
      "source": [
        "x=(\"python\")\n",
        "for lletra in x:\n",
        "      print(lletra)\n",
        "      if lletra == (\"h\"):\n",
        "        break"
      ]
    },
    {
      "cell_type": "markdown",
      "source": [
        "El mateix pero que printi tot menys la \"h\". continue"
      ],
      "metadata": {
        "id": "wboAJ4epvf4l"
      }
    },
    {
      "cell_type": "code",
      "source": [
        "x=(\"python\")\n",
        "for lletra in x:\n",
        "  if lletra == (\"h\"):\n",
        "    continue\n",
        "  print(lletra)"
      ],
      "metadata": {
        "colab": {
          "base_uri": "https://localhost:8080/"
        },
        "id": "k3Mz-obvvuOu",
        "outputId": "a5e6b597-bc8e-48eb-e4bd-41b5ed04c483"
      },
      "execution_count": 33,
      "outputs": [
        {
          "output_type": "stream",
          "name": "stdout",
          "text": [
            "p\n",
            "y\n",
            "t\n",
            "o\n",
            "n\n"
          ]
        }
      ]
    },
    {
      "cell_type": "markdown",
      "source": [
        "Imprimir les lletres de supercalifragilisticoespilidoso sense la A"
      ],
      "metadata": {
        "id": "uEcbcompv4os"
      }
    },
    {
      "cell_type": "code",
      "source": [
        "x=(\"supercalifragilisticoespilidoso\")\n",
        "for lletres in x:\n",
        "    if lletres == (\"a\"):\n",
        "      continue\n",
        "    print(lletres)"
      ],
      "metadata": {
        "colab": {
          "base_uri": "https://localhost:8080/"
        },
        "id": "hDorMHnM0UZZ",
        "outputId": "0e96fc79-e95e-4ca9-8f0e-2f28361949bc"
      },
      "execution_count": 53,
      "outputs": [
        {
          "output_type": "stream",
          "name": "stdout",
          "text": [
            "s\n",
            "u\n",
            "p\n",
            "e\n",
            "r\n",
            "c\n",
            "l\n",
            "i\n",
            "f\n",
            "r\n",
            "g\n",
            "i\n",
            "l\n",
            "i\n",
            "s\n",
            "t\n",
            "i\n",
            "c\n",
            "o\n",
            "e\n",
            "s\n",
            "p\n",
            "i\n",
            "l\n",
            "i\n",
            "d\n",
            "o\n",
            "s\n",
            "o\n"
          ]
        }
      ]
    },
    {
      "cell_type": "markdown",
      "source": [
        "Imprimir mitjançant un bucle la llista de les seguents ciutats:\n",
        "Barcelona, Murcia, Valencia, Toledo, Bilboa, Salamanca, Teruel, Burgos, Tarragona, Sevilla i Valladolid. Printar les seguents ciutats si no tenen 6 lletres."
      ],
      "metadata": {
        "id": "JGZmn52xwJsn"
      }
    },
    {
      "cell_type": "code",
      "source": [
        "ciutats = [\"Barcelona\", \"Murcia\", \"Valencia\", \"Toledo\", \"Bilbao\", \"Salamanca\", \"Teruel\", \"Burgos\", \"Tarragona\", \"Sevilla\", \"Valladolid\"]\n",
        "for ciutat in ciutats:\n",
        "    if len(ciutat) != 6:\n",
        "        print(ciutat)\n"
      ],
      "metadata": {
        "colab": {
          "base_uri": "https://localhost:8080/"
        },
        "id": "wn0az67Z2J6d",
        "outputId": "284a4228-23c7-4f22-d848-6262546f4049"
      },
      "execution_count": 67,
      "outputs": [
        {
          "output_type": "stream",
          "name": "stdout",
          "text": [
            "Barcelona\n",
            "Valencia\n",
            "Salamanca\n",
            "Tarragona\n",
            "Sevilla\n",
            "Valladolid\n"
          ]
        }
      ]
    },
    {
      "cell_type": "code",
      "source": [],
      "metadata": {
        "id": "IjcJmRol4SPk"
      },
      "execution_count": 67,
      "outputs": []
    }
  ]
}