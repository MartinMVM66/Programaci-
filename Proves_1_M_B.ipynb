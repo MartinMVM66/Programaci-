{
  "nbformat": 4,
  "nbformat_minor": 0,
  "metadata": {
    "colab": {
      "provenance": [],
      "authorship_tag": "ABX9TyOsT4y10g5pvsQC8woG8TaP",
      "include_colab_link": true
    },
    "kernelspec": {
      "name": "python3",
      "display_name": "Python 3"
    },
    "language_info": {
      "name": "python"
    }
  },
  "cells": [
    {
      "cell_type": "markdown",
      "metadata": {
        "id": "view-in-github",
        "colab_type": "text"
      },
      "source": [
        "<a href=\"https://colab.research.google.com/github/MartinMVM66/Programaci-/blob/main/Proves_1_M_B.ipynb\" target=\"_parent\"><img src=\"https://colab.research.google.com/assets/colab-badge.svg\" alt=\"Open In Colab\"/></a>"
      ]
    },
    {
      "cell_type": "markdown",
      "source": [],
      "metadata": {
        "id": "aDrT5V3nl2LX"
      }
    },
    {
      "cell_type": "markdown",
      "source": [
        "He decidit que només fara un transport."
      ],
      "metadata": {
        "id": "lhgkddnXnMab"
      }
    },
    {
      "cell_type": "code",
      "execution_count": null,
      "metadata": {
        "colab": {
          "base_uri": "https://localhost:8080/"
        },
        "id": "PEgkDzJXjQeK",
        "outputId": "b22d0e61-7f34-499b-9121-309ab4b89815"
      },
      "outputs": [
        {
          "output_type": "stream",
          "name": "stdout",
          "text": [
            "4501\n"
          ]
        }
      ],
      "source": [
        "cuines=48\n",
        "preu_per_cuina=93\n",
        "preu_tranport=37\n",
        "preu_total=cuines*preu_per_cuina+preu_tranport\n",
        "print(preu_total)"
      ]
    },
    {
      "cell_type": "code",
      "source": [
        "guardiola_1=120\n",
        "guardiola_2=215\n",
        "guardiola_3=163\n",
        "persones=6\n",
        "diners_totals=guardiola_1+guardiola_2+guardiola_3\n",
        "diners_per_persona=diners_totals/persones\n",
        "print(diners_per_persona)"
      ],
      "metadata": {
        "colab": {
          "base_uri": "https://localhost:8080/"
        },
        "id": "CI--_HCZnaBP",
        "outputId": "ee277035-d5d3-4313-fa9a-6477404b20b6"
      },
      "execution_count": null,
      "outputs": [
        {
          "output_type": "stream",
          "name": "stdout",
          "text": [
            "83.0\n"
          ]
        }
      ]
    },
    {
      "cell_type": "code",
      "source": [
        "castanyes_totals=250\n",
        "castanyes_venudes=17*12\n",
        "castanyes_cremades=9\n",
        "castanyes_que_li_queden=castanyes_totals-castanyes_venudes-castanyes_cremades\n",
        "print(castanyes_que_li_queden)"
      ],
      "metadata": {
        "colab": {
          "base_uri": "https://localhost:8080/"
        },
        "id": "lmAxtuU2oOo8",
        "outputId": "99c7d59a-9c8d-445c-d934-6f752e2522e9"
      },
      "execution_count": null,
      "outputs": [
        {
          "output_type": "stream",
          "name": "stdout",
          "text": [
            "37\n"
          ]
        }
      ]
    },
    {
      "cell_type": "code",
      "source": [],
      "metadata": {
        "id": "uHlAoYNbpH3D"
      },
      "execution_count": null,
      "outputs": []
    },
    {
      "cell_type": "code",
      "source": [
        "diners_del_ramader=2850\n",
        "diners_que_guarda=700\n",
        "vaques=5\n",
        "diners_que_gasta_en_vaques=diners_del_ramader-diners_que_guarda\n",
        "preu_per_vaca=diners_que_gasta_en_vaques/vaques\n",
        "print(preu_per_vaca)"
      ],
      "metadata": {
        "colab": {
          "base_uri": "https://localhost:8080/"
        },
        "id": "h453k5wNpSx7",
        "outputId": "4679a459-a91f-42f5-8510-ff43a8594700"
      },
      "execution_count": null,
      "outputs": [
        {
          "output_type": "stream",
          "name": "stdout",
          "text": [
            "430.0\n"
          ]
        }
      ]
    },
    {
      "cell_type": "code",
      "source": [
        "Llibreta_de_estalvis=275\n",
        "Billets=10*2\n",
        "Monedes=2*3\n",
        "Euros_totals=Llibreta_de_estalvis+Billets+Monedes\n",
        "print(Euros_totals)"
      ],
      "metadata": {
        "colab": {
          "base_uri": "https://localhost:8080/"
        },
        "id": "4Wu1knQ1ZzYD",
        "outputId": "5ff7d268-1ae8-4091-dff8-539df5afc64c"
      },
      "execution_count": null,
      "outputs": [
        {
          "output_type": "stream",
          "name": "stdout",
          "text": [
            "301\n"
          ]
        }
      ]
    },
    {
      "cell_type": "code",
      "source": [
        "cost_de_la_casa=98370\n",
        "diners_que_falten_a_la_familia=26625\n",
        "diners_que_tenen=cost_de_la_casa-diners_que_falten_a_la_familia\n",
        "print(diners_que_tenen)"
      ],
      "metadata": {
        "colab": {
          "base_uri": "https://localhost:8080/"
        },
        "id": "G7Qtklm8bDkE",
        "outputId": "f0bca526-4e1e-4a33-9f41-34714f1d3e3d"
      },
      "execution_count": null,
      "outputs": [
        {
          "output_type": "stream",
          "name": "stdout",
          "text": [
            "71745\n"
          ]
        }
      ]
    },
    {
      "cell_type": "code",
      "source": [
        "pes_de_dues_revistes=432\n",
        "numero_de_rotuladors=5\n",
        "pes_de_cinc_rotuladors=432\n",
        "pes_de_un_rotulador=(pes_de_dues_revistes/numero_de_rotuladors)\n",
        "print(pes_de_un_rotulador)"
      ],
      "metadata": {
        "colab": {
          "base_uri": "https://localhost:8080/"
        },
        "id": "13g1Icesb2K8",
        "outputId": "6464b429-d88c-4ec4-8bde-02099aaa0777"
      },
      "execution_count": null,
      "outputs": [
        {
          "output_type": "stream",
          "name": "stdout",
          "text": [
            "86.4\n"
          ]
        }
      ]
    },
    {
      "cell_type": "code",
      "source": [
        "font_1=86\n",
        "font_2=74\n",
        "font_3=132\n",
        "una_hora=60\n",
        "Quants_litres_per_hora=(font_1+font_2+font_3*una_hora)\n",
        "print(Quants_litres_per_hora)"
      ],
      "metadata": {
        "colab": {
          "base_uri": "https://localhost:8080/"
        },
        "id": "T92jr9IslYv0",
        "outputId": "4427575a-a6cc-423c-d8be-ac2855f6eeb6"
      },
      "execution_count": null,
      "outputs": [
        {
          "output_type": "stream",
          "name": "stdout",
          "text": [
            "8080\n"
          ]
        }
      ]
    },
    {
      "cell_type": "code",
      "source": [
        "gerres=301\n",
        "cada_caixa=7\n",
        "caixes_que_omplirà=(gerres/cada_caixa)\n",
        "print(caixes_que_omplirà)"
      ],
      "metadata": {
        "colab": {
          "base_uri": "https://localhost:8080/"
        },
        "id": "hGOGO9Npsvmt",
        "outputId": "2878cfc0-2a4e-4f95-b274-3c34d3ba8ca2"
      },
      "execution_count": null,
      "outputs": [
        {
          "output_type": "stream",
          "name": "stdout",
          "text": [
            "43.0\n"
          ]
        }
      ]
    },
    {
      "cell_type": "code",
      "source": [],
      "metadata": {
        "id": "_TPUbJHFkhNQ"
      },
      "execution_count": null,
      "outputs": []
    },
    {
      "cell_type": "code",
      "source": [
        "mariners_al_vaixell=175\n",
        "mariners_al_submarí=56\n",
        "vaixells=14\n",
        "submarins=6\n",
        "numero_de_mariners_als_vaixells=(mariners_al_vaixell*vaixells)\n",
        "numero_de_mariners_als_submarins=(mariners_al_submarí*submarins)\n",
        "numero_total_de_mariners=(numero_de_mariners_als_vaixells+numero_de_mariners_als_submarins)\n",
        "print(numero_total_de_mariners)"
      ],
      "metadata": {
        "colab": {
          "base_uri": "https://localhost:8080/"
        },
        "id": "QpyZEbkLtrkk",
        "outputId": "529d91fa-0d8f-40e3-8677-b593ee373eeb"
      },
      "execution_count": null,
      "outputs": [
        {
          "output_type": "stream",
          "name": "stdout",
          "text": [
            "2786\n"
          ]
        }
      ]
    },
    {
      "cell_type": "markdown",
      "source": [
        "Una botiga de joguines te molt exit amb dos dels seus productes: nines i payasos. Acostuma a fer ventes per correu i l'empresa de logistica els cobra pel pes de cada joguina, aixi doncs han de calcular el pes dels payasos i nines que sortiran acada paquet a demanda.\n",
        "1.Cada payso pesa 112g\n",
        "2.Cada nina pesa 75g\n",
        "3.Fes un programa que llegexi el numero de payasos i nines venuts en la darrera comanada. I calcula el pes."
      ],
      "metadata": {
        "id": "HXo8ckATrFHh"
      }
    },
    {
      "cell_type": "code",
      "source": [
        "Peso_payaso=112\n",
        "Peso_muñeca=75\n",
        "Payasos = int(input(\"Introduce el número de payasos a enviar: \"))\n",
        "Muñecas = int(input(\"Introduce el número de muñecas a enviar: \"))\n",
        "Peso_total = Peso_payaso * Payasos + Peso_muñeca * Muñecas\n",
        "print(\"El peso total del paquete es \" + str(peso_total))"
      ],
      "metadata": {
        "colab": {
          "base_uri": "https://localhost:8080/"
        },
        "id": "6EIPqE7nHvZN",
        "outputId": "1c973cb2-58cf-487a-92d5-549134b1e62b"
      },
      "execution_count": null,
      "outputs": [
        {
          "output_type": "stream",
          "name": "stdout",
          "text": [
            "Introduce el número de payasos a enviar: 5\n",
            "Introduce el número de muñecas a enviar: 2\n",
            "El peso total del paquete es 710\n"
          ]
        }
      ]
    },
    {
      "cell_type": "code",
      "source": [
        "print(\"Hola mundo\")"
      ],
      "metadata": {
        "colab": {
          "base_uri": "https://localhost:8080/"
        },
        "id": "piH6NCBpHXi-",
        "outputId": "0385439b-339f-4811-cd35-66ffa97e59cc"
      },
      "execution_count": null,
      "outputs": [
        {
          "output_type": "stream",
          "name": "stdout",
          "text": [
            "Hola mundo\n"
          ]
        }
      ]
    },
    {
      "cell_type": "code",
      "source": [
        "x=\"Hola mundo\"\n",
        "print(x)"
      ],
      "metadata": {
        "colab": {
          "base_uri": "https://localhost:8080/"
        },
        "id": "D9zT_GHzIGYa",
        "outputId": "6503fb8c-4fca-4e3d-b155-a6de097e58c4"
      },
      "execution_count": null,
      "outputs": [
        {
          "output_type": "stream",
          "name": "stdout",
          "text": [
            "hola mundo\n"
          ]
        }
      ]
    },
    {
      "cell_type": "markdown",
      "source": [
        "Escriu un programa que pregunti el nom de l'usuari, i despres quan l'usuari introdueixi el nom a la resposta s'ha d'imrimir una resposta que ens digui hola i la resposta de la pregunta que hem fet."
      ],
      "metadata": {
        "id": "MPJg9rhDI5B-"
      }
    },
    {
      "cell_type": "code",
      "source": [
        "Nom=input(\"Introduce tu nombre:\")\n",
        "print (\"Hola que tal estas, \"+ Nom )"
      ],
      "metadata": {
        "id": "f9V__vFFJRfd",
        "colab": {
          "base_uri": "https://localhost:8080/"
        },
        "outputId": "703defd2-2886-438a-a5d8-c32585b211a2"
      },
      "execution_count": null,
      "outputs": [
        {
          "output_type": "stream",
          "name": "stdout",
          "text": [
            "Introduce tu nombre:antony\n",
            "Hola que tal estas, antony\n"
          ]
        }
      ]
    },
    {
      "cell_type": "code",
      "source": [
        "print (\"sumar       [1]\")\n",
        "print (\"restar      [2]\")\n",
        "print (\"multiplicar [3]\")\n",
        "print (\"dividir     [4]\")\n",
        "pregunta = input(\"Introduixi el número assignat segons el tipus d'operació que vulgui fer: \")\n",
        "if pregunta == \"1\":\n",
        "  numero_1 = float(input(\"Digues el número 1: \"))\n",
        "  numero_2 = float(input(\"Digues el número 2: \"))\n",
        "  respuesta = numero_1 + numero_2\n",
        "  print (str(respuesta))\n",
        "elif pregunta == \"2\":\n",
        "  numero_1 = float(input(\"Digues el número 1: \"))\n",
        "  numero_2 = float(input(\"Digues el número 2: \"))\n",
        "  respuesta = numero_1 - numero_2\n",
        "  print (str(respuesta))\n",
        "elif pregunta == \"3\":\n",
        "  numero_1 = float(input(\"Digues el número 1: \"))\n",
        "  numero_2 = float(input(\"Digues el número 2: \"))\n",
        "  respuesta = numero_1 * numero_2\n",
        "  print (str(respuesta))\n",
        "elif pregunta == \"4\":\n",
        "  numero_1 = float(input(\"Digues el número 1: \"))\n",
        "  numero_2 = float(input(\"Digues el número 2: \"))\n",
        "  respuesta = numero_1 / numero_2\n",
        "  print (\"El resultat es \" + str(respuesta))"
      ],
      "metadata": {
        "colab": {
          "base_uri": "https://localhost:8080/"
        },
        "id": "k-6jS3QDNllJ",
        "outputId": "21e31dc2-b1c7-47fb-aeda-55fe457737d9"
      },
      "execution_count": null,
      "outputs": [
        {
          "output_type": "stream",
          "name": "stdout",
          "text": [
            "sumar       [1]\n",
            "restar      [2]\n",
            "multiplicar [3]\n",
            "dividir     [4]\n",
            "Introduixi el número assignat segons el tipus d'operació que vulgui fer: 2\n",
            "Digues el número 1: 100\n",
            "Digues el número 2: 50\n",
            "50.0\n"
          ]
        }
      ]
    },
    {
      "cell_type": "code",
      "source": [
        "x=10\n",
        "print(type(x))"
      ],
      "metadata": {
        "colab": {
          "base_uri": "https://localhost:8080/"
        },
        "id": "0MJckSEKndqA",
        "outputId": "22b4e491-b1c9-42ad-8332-907af1060613"
      },
      "execution_count": null,
      "outputs": [
        {
          "output_type": "stream",
          "name": "stdout",
          "text": [
            "<class 'int'>\n"
          ]
        }
      ]
    },
    {
      "cell_type": "code",
      "source": [
        "x=1,5\n",
        "print(type(x))"
      ],
      "metadata": {
        "colab": {
          "base_uri": "https://localhost:8080/"
        },
        "id": "zndmQxDInlco",
        "outputId": "90165518-25ca-4983-8717-095c97100113"
      },
      "execution_count": null,
      "outputs": [
        {
          "output_type": "stream",
          "name": "stdout",
          "text": [
            "<class 'tuple'>\n"
          ]
        }
      ]
    },
    {
      "cell_type": "markdown",
      "source": [
        "Pregunta a la variable mtjançant el type quien tipus de funció es. Un cop preguntat si la resposta es un numero sencer cal que el programa hos digui, escriu el nombre amb un numero no sencer o decimal, sino caldra que imprimeixi el valor de nines."
      ],
      "metadata": {
        "id": "enDA9yR0rrV9"
      }
    },
    {
      "cell_type": "code",
      "source": [
        "Peso_payaso=112.2\n",
        "Peso_muñeca=75\n",
        "Payasos = float(input(\"Introduce el número de payasos a enviar: \"))\n",
        "Muñecas = float(input(\"Introduce el número de muñecas a enviar: \"))\n",
        "Peso_total = Peso_payaso * Payasos + Peso_muñeca * Muñecas\n",
        "print(\"El peso total del paquete es \" + str(Peso_total))\n",
        "print(type(Peso_total))\n"
      ],
      "metadata": {
        "colab": {
          "base_uri": "https://localhost:8080/"
        },
        "id": "5GqlNUlxsZVA",
        "outputId": "4de72e8a-35c3-4fd6-debe-985b5749ccff"
      },
      "execution_count": null,
      "outputs": [
        {
          "output_type": "stream",
          "name": "stdout",
          "text": [
            "Introduce el número de payasos a enviar: 6\n",
            "Introduce el número de muñecas a enviar: 6\n",
            "El peso total del paquete es 1123.2\n",
            "<class 'float'>\n"
          ]
        }
      ]
    },
    {
      "cell_type": "markdown",
      "source": [
        "Preguntar cuantes hores treballa un treballador, i quant cobra per hora? Despres calcular el total.*italicized text*"
      ],
      "metadata": {
        "id": "JSsFoiFCSRoZ"
      }
    },
    {
      "cell_type": "code",
      "source": [
        "Diners_per_hora = float(input(\"Introdueix els diners que guanyes per hora: \"))\n",
        "Hores = float(input(\"Introdueix les hores que treballes: \"))\n",
        "Diners_que_cobra = (Diners_per_hora*Hores)\n",
        "print (Diners_que_cobra)"
      ],
      "metadata": {
        "colab": {
          "base_uri": "https://localhost:8080/"
        },
        "id": "ZKfYl4FRSqqT",
        "outputId": "881d10c6-c459-41af-e3d3-a9640a44d3a0"
      },
      "execution_count": null,
      "outputs": [
        {
          "output_type": "stream",
          "name": "stdout",
          "text": [
            "Introdueix els diners que guanyes per hora: 500\n",
            "Introdueix les hores que treballes: 2\n",
            "1000.0\n"
          ]
        }
      ]
    },
    {
      "cell_type": "markdown",
      "source": [],
      "metadata": {
        "id": "tYbZ5zptV5Rz"
      }
    },
    {
      "cell_type": "code",
      "source": [
        "Preu_per_llibre = 5\n",
        "Preu_per_punt_de_llibre = 1.5\n",
        "Preu_per_portallibre = 10\n",
        "Llibres = float(input(\"Introdueix els llibres que vols: \"))\n",
        "Punts_de_llibres = float(input(\"Introdueix els punts de llibres que vols: \"))\n",
        "Portallibres = float(input(\"Introdueix els portallibresque vols: \"))\n",
        "Preu_dels_llibres = (Preu_per_llibre*Llibres)\n",
        "Preu_dels_punts_de_llibre = (Preu_per_punt_de_llibre*Punts_de_llibres)\n",
        "Preu_dels_portallibres = (Preu_per_portallibre*Portallibres)\n",
        "Preu_total = (Preu_dels_llibres+Preu_dels_punts_de_llibre+Preu_dels_portallibres)\n",
        "if (Preu_total >50):\n",
        "  print(\"Moltes gracies per la seva compra!!\")\n",
        "else:\n",
        "  print(\"Adeu garrepa!!\")"
      ],
      "metadata": {
        "colab": {
          "base_uri": "https://localhost:8080/"
        },
        "id": "2okZRg5JkPFf",
        "outputId": "ec2fb9bc-af56-4d53-ec00-190ffa2fc82d"
      },
      "execution_count": null,
      "outputs": [
        {
          "output_type": "stream",
          "name": "stdout",
          "text": [
            "Introdueix els llibres que vols: 1\n",
            "Introdueix els punts de llibres que vols: 1\n",
            "Introdueix els portallibresque vols: 1\n",
            "Adeu garrepa!!\n"
          ]
        }
      ]
    },
    {
      "cell_type": "code",
      "source": [
        "Preu_per_llibre = 5\n",
        "Preu_per_punt_de_llibre = 1.5\n",
        "Preu_per_portallibre = 10\n",
        "Llibres = float(input(\"Introdueix els llibres que vols: \"))\n",
        "Punts_de_llibres = float(input(\"Introdueix els punts de llibres que vols: \"))\n",
        "Portallibres = float(input(\"Introdueix els portallibresque vols: \"))\n",
        "Preu_dels_llibres = (Preu_per_llibre*Llibres)\n",
        "Preu_dels_punts_de_llibre = (Preu_per_punt_de_llibre*Punts_de_llibres)\n",
        "Preu_dels_portallibres = (Preu_per_portallibre*Portallibres)\n",
        "Preu_total = (Preu_dels_llibres+Preu_dels_punts_de_llibre+Preu_dels_portallibres)\n",
        "if Preu_total := float:\n",
        "  print(\"Compra un punt de llibre més, que no hem queden centims, siusplau\")\n",
        "else:\n",
        "  print(\"Moltes gracies\")"
      ],
      "metadata": {
        "colab": {
          "base_uri": "https://localhost:8080/"
        },
        "id": "Zcp0iikLtv6F",
        "outputId": "006d4730-069a-4910-879d-cf7d92a6c71f"
      },
      "execution_count": null,
      "outputs": [
        {
          "output_type": "stream",
          "name": "stdout",
          "text": [
            "Introdueix els llibres que vols: 1\n",
            "Introdueix els punts de llibres que vols: 1\n",
            "Introdueix els portallibresque vols: 1\n",
            "Compra un punt de llibre més, que no hem queden centims, siusplau\n"
          ]
        }
      ]
    },
    {
      "cell_type": "markdown",
      "source": [
        "Calcula la superficie d'un cuadrat coneixent 1 dels seus costats"
      ],
      "metadata": {
        "id": "3yaeavn7pbVo"
      }
    },
    {
      "cell_type": "code",
      "source": [],
      "metadata": {
        "id": "ag1_JzwVqgJa"
      },
      "execution_count": null,
      "outputs": []
    },
    {
      "cell_type": "markdown",
      "source": [
        "Realitza el perimetre d'un cuadrat"
      ],
      "metadata": {
        "id": "6O2XjLEDpsLf"
      }
    },
    {
      "cell_type": "markdown",
      "source": [
        "Inventat 4 variables:\n",
        "a)Suma les cuatre variables\n",
        "b)Suma els dos primers i dos ultims i despres multipliques els dos resultats"
      ],
      "metadata": {
        "id": "OEX7pA6Op0ic"
      }
    },
    {
      "cell_type": "markdown",
      "source": [
        "Calcular les peçes de fruita, i calcular cuantes peçes de fruita i verdura tenen."
      ],
      "metadata": {
        "id": "qSMSW3cRr9mI"
      }
    },
    {
      "cell_type": "code",
      "source": [
        "Pomes=60\n",
        "Peres=8\n",
        "Pebrots=36\n",
        "fruites_totals= (Pomes+Peres)\n",
        "print (\"Les peçes de fruites totals son \" +  str(fruites_totals))\n",
        "print (\"Les peçes de fruites i verdures totals son \" +  str(Pomes+Peres+Pebrots))"
      ],
      "metadata": {
        "colab": {
          "base_uri": "https://localhost:8080/"
        },
        "id": "bW3-JEn1rPPz",
        "outputId": "04d08557-625b-47c9-b20d-a1c70da12e5b"
      },
      "execution_count": null,
      "outputs": [
        {
          "output_type": "stream",
          "name": "stdout",
          "text": [
            "Les peçes de fruites totals son 68\n",
            "Les peçes de fruites i verdures totals son 104\n"
          ]
        }
      ]
    },
    {
      "cell_type": "markdown",
      "source": [],
      "metadata": {
        "id": "h-lk_kJIs6Zg"
      }
    },
    {
      "cell_type": "code",
      "source": [
        "Alumnes_per_clase_ESO=30\n",
        "Alumnes_per_clase_BTX=25\n",
        "Temps_per_reparar_un_ordinador=20\n",
        "Alumnes_totals_a_la_ESO=(Alumnes_per_clase_ESO*3)\n",
        "Alumnes_totals_a_BTX=(Alumnes_per_clase_BTX*2)\n",
        "Ordinadors_repartits_a_tots_els_alumnes=(Alumnes_totals_a_BTX+Alumnes_totals_a_la_ESO)\n",
        "print(\"Els ordinadors totals son \" +  str(Ordinadors_repartits_a_tots_els_alumnes))\n",
        "Ordinadors_amb_incidencies=140*70/100\n",
        "print (\"El percentatge d'ordinadors amb incidencies es el \" +  str(Ordinadors_amb_incidencies))\n",
        "Temps_per_reparar_tots_els_ordinadors=(Ordinadors_amb_incidencies*Temps_per_reparar_un_ordinador)\n",
        "print(\"Els tems en reparar tots els ordinadors en minuts es \" +  str(Temps_per_reparar_tots_els_ordinadors))\n",
        "print(\"Els tems en reparar tots els ordinadors en hores es \" +  str(Temps_per_reparar_tots_els_ordinadors/60))"
      ],
      "metadata": {
        "colab": {
          "base_uri": "https://localhost:8080/"
        },
        "id": "JPk4TtlWs5_c",
        "outputId": "14efdd46-f92e-41b7-bf55-1cff66d7606c"
      },
      "execution_count": null,
      "outputs": [
        {
          "output_type": "stream",
          "name": "stdout",
          "text": [
            "Els ordinadors totals son 140\n",
            "El percentatge d'ordinadors amb incidencies es el 98.0\n",
            "Els tems en reparar tots els ordinadors en minuts es 1960.0\n",
            "Els tems en reparar tots els ordinadors en hores es 32.666666666666664\n"
          ]
        }
      ]
    },
    {
      "cell_type": "markdown",
      "source": [
        "Calcular el area de un cuadrat"
      ],
      "metadata": {
        "id": "eHVlGkGwOulh"
      }
    },
    {
      "cell_type": "code",
      "source": [
        "Costat = float(input(\"Introdueix el que mesura un costat: \"))\n",
        "Area_cuadrat = (Costat*Costat)\n",
        "print (Area_cuadrat)"
      ],
      "metadata": {
        "colab": {
          "base_uri": "https://localhost:8080/"
        },
        "id": "fJtsZBwYOw1G",
        "outputId": "58e42bd4-a6cf-4fa3-8c55-cceb83dceaea"
      },
      "execution_count": null,
      "outputs": [
        {
          "output_type": "stream",
          "name": "stdout",
          "text": [
            "Introdueix el que mesura un costat: 5\n",
            "25.0\n"
          ]
        }
      ]
    },
    {
      "cell_type": "markdown",
      "source": [
        "Calcula el perimetre"
      ],
      "metadata": {
        "id": "VS83IY99Py1a"
      }
    },
    {
      "cell_type": "code",
      "source": [
        "Costat = float(input(\"Introdueix el que mesura un costat: \"))\n",
        "Perimetre = (Costat*4)\n",
        "print (Perimetre)"
      ],
      "metadata": {
        "colab": {
          "base_uri": "https://localhost:8080/"
        },
        "id": "3zl0Vzu5P0hw",
        "outputId": "74c25695-717d-417f-c9af-cfe5eed87d9c"
      },
      "execution_count": null,
      "outputs": [
        {
          "output_type": "stream",
          "name": "stdout",
          "text": [
            "Introdueix el que mesura un costat: 5\n",
            "20.0\n"
          ]
        }
      ]
    },
    {
      "cell_type": "markdown",
      "source": [],
      "metadata": {
        "id": "eJMsEw8xQMbo"
      }
    },
    {
      "cell_type": "code",
      "source": [
        "Variable_1 = float(input(\"Introdueix el que mesura un costat: \"))\n",
        "Variable_2 = float(input(\"Introdueix el que mesura un costat: \"))\n",
        "Variable_3 = float(input(\"Introdueix el que mesura un costat: \"))\n",
        "Variable_4 = float(input(\"Introdueix el que mesura un costat: \"))\n",
        "Suma_de_totes_les_variables=(Variable_1+Variable_2+Variable_3+Variable_4)\n",
        "print (Suma_de_totes_les_variables)\n",
        "Multiplicació_i_suma=(Variable_1*Variable_2+Variable_3*Variable_4)\n",
        "print (Multiplicació_i_suma)"
      ],
      "metadata": {
        "colab": {
          "base_uri": "https://localhost:8080/"
        },
        "id": "onL-Yv4eQ-qS",
        "outputId": "b5a72fea-f716-415b-980a-e06db4cbc721"
      },
      "execution_count": null,
      "outputs": [
        {
          "output_type": "stream",
          "name": "stdout",
          "text": [
            "Introdueix el que mesura un costat: 1\n",
            "Introdueix el que mesura un costat: 1\n",
            "Introdueix el que mesura un costat: 1\n",
            "Introdueix el que mesura un costat: 1\n",
            "4.0\n",
            "2.0\n"
          ]
        }
      ]
    },
    {
      "cell_type": "markdown",
      "source": [
        "Fer una mitjana"
      ],
      "metadata": {
        "id": "uDgejigwSrjg"
      }
    },
    {
      "cell_type": "code",
      "source": [
        "Variable_1 = float(input(\"Introdueix el que mesura un costat: \"))\n",
        "Variable_2 = float(input(\"Introdueix el que mesura un costat: \"))\n",
        "Variable_3 = float(input(\"Introdueix el que mesura un costat: \"))\n",
        "Variable_4 = float(input(\"Introdueix el que mesura un costat: \"))\n",
        "Suma_de_totes_les_variables=(Variable_1+Variable_2+Variable_3+Variable_4)\n",
        "Mitjana=(Suma_de_totes_les_variables/4)\n",
        "print (Mitjana)\n"
      ],
      "metadata": {
        "colab": {
          "base_uri": "https://localhost:8080/"
        },
        "id": "KYicR3cTRjeY",
        "outputId": "a8cfc75f-d520-4c15-bd8e-2d40c7835cf8"
      },
      "execution_count": null,
      "outputs": [
        {
          "output_type": "stream",
          "name": "stdout",
          "text": [
            "Introdueix el que mesura un costat: 1\n",
            "Introdueix el que mesura un costat: 1\n",
            "Introdueix el que mesura un costat: 1\n",
            "Introdueix el que mesura un costat: 1\n",
            "1.0\n"
          ]
        }
      ]
    },
    {
      "cell_type": "markdown",
      "source": [
        "Fes una variable que pregunti el sou de una persona, i si el seu sou es superior als 2000 euros cal que es mostri un mistage a la pantalla que digui que ha de pagar un 15% de IRPF"
      ],
      "metadata": {
        "id": "SBbMEYTPTETv"
      }
    },
    {
      "cell_type": "code",
      "source": [
        "Sou = float(input(\"Quin es el teu sou?: \"))\n",
        "if Sou >2000:\n",
        "  print(\"Has de pagar un 15% de IRPF\")\n",
        "else:\n",
        "  print(\"No fa falta que paguis.\")"
      ],
      "metadata": {
        "colab": {
          "base_uri": "https://localhost:8080/"
        },
        "id": "o9LvpTrwTZ3B",
        "outputId": "ad9e47e5-5023-44e2-bdc6-4fa6d0827644"
      },
      "execution_count": null,
      "outputs": [
        {
          "output_type": "stream",
          "name": "stdout",
          "text": [
            "Quin es el teu sou?: 34\n",
            "No fa falta que paguis\n"
          ]
        }
      ]
    },
    {
      "cell_type": "markdown",
      "source": [
        "Posar 2 variables amb valors diferents, cal que surti a la pantalla el que es superior."
      ],
      "metadata": {
        "id": "2Sd9f606Tsr3"
      }
    },
    {
      "cell_type": "code",
      "source": [
        "Variable_1 = float(input(\"Introdeix la primera variable: \"))\n",
        "Variable_2 = float(input(\"Introdeix la segona variable: \"))\n",
        "if Variable_1 > Variable_2:\n",
        "  print(Variable_1)\n",
        "else:\n",
        "  print(Variable_2)"
      ],
      "metadata": {
        "colab": {
          "base_uri": "https://localhost:8080/"
        },
        "id": "He8YGFddXJca",
        "outputId": "fd7eb181-0fab-46cc-b508-e7cb76f92fda"
      },
      "execution_count": null,
      "outputs": [
        {
          "output_type": "stream",
          "name": "stdout",
          "text": [
            "Introdeix la primera variable: 2\n",
            "Introdeix la segona variable: 3\n",
            "3.0\n"
          ]
        }
      ]
    },
    {
      "cell_type": "markdown",
      "source": [
        "Imagineuvos que teniu una nomina de 2950 euros, fes que pagi a l'estat un 20%  d'impostos. Despres, paga las factures del gas (70 euros) i de l'aigua\n",
        ":(55 euros). Tambe el pis (1000 euros) cuants diners li quedaran per sobreviure.\n",
        "Si el resultat de l'import es inferior a 1000 cal que printeu, Rata pobre!!"
      ],
      "metadata": {
        "id": "PGQUxlXcUDNt"
      }
    },
    {
      "cell_type": "code",
      "source": [
        "Nomina=1950\n",
        "Paga_al_estat=20\n",
        "Factura_de_gas=70\n",
        "Factura_de_aigua=55\n",
        "Pagar_el_pis=1000\n",
        "Diners_que_ha_de_pagar_al_estat=Nomina*20/100\n",
        "Diners_despres_de_pagar_al_estat=(Nomina-Diners_que_ha_de_pagar_al_estat)\n",
        "print (Diners_despres_de_pagar_al_estat)\n",
        "Diners_de_totes_les_factures=(Factura_de_gas+Factura_de_aigua+Pagar_el_pis)\n"
      ],
      "metadata": {
        "colab": {
          "base_uri": "https://localhost:8080/"
        },
        "id": "z9_MimO6XI8e",
        "outputId": "5d2f7f71-092a-4059-8059-4f43efabc86f"
      },
      "execution_count": null,
      "outputs": [
        {
          "output_type": "stream",
          "name": "stdout",
          "text": [
            "1560.0\n"
          ]
        }
      ]
    },
    {
      "cell_type": "code",
      "source": [],
      "metadata": {
        "id": "rcbB99zIYzia"
      },
      "execution_count": null,
      "outputs": []
    },
    {
      "cell_type": "markdown",
      "source": [
        "Demanar a un alumne que doni tres notes. Calcula el promig de les notes, si el promig es mes gran de 7 o igual, supera el curs. Si la nota es entre 4 i 7 esta be, i per sota de 4 esta suspes i pot intentar recuperar."
      ],
      "metadata": {
        "id": "i8PjRmJHUo49"
      }
    },
    {
      "cell_type": "code",
      "source": [
        "Variable_1 = float(input(\"Introdeix la teva nota del primer examen, sobre 10: \"))\n",
        "Variable_2 = float(input(\"Introdeix la teva nota del segon examen, sobre 10: \"))\n",
        "Variable_3 = float(input(\"Introdeix la teva nota del tercer examen, sobre 10: \"))\n",
        "Suma_de_les_notes=(Variable_1+Variable_2+Variable_3)\n",
        "Promig_notes=(Suma_de_les_notes/3)\n",
        "print(Promig_notes)\n",
        "if (Promig_notes >= 7):\n",
        "  print(\"Has superat el curs amb bona nota\")\n",
        "elif (Promig_notes < 4):\n",
        "  print(\"Has suspes, tens la opcio a recuperar\")\n",
        "else:\n",
        "  print(\"Has pasat de curs, pero compte\")"
      ],
      "metadata": {
        "colab": {
          "base_uri": "https://localhost:8080/"
        },
        "id": "51oC-ZGcwJfo",
        "outputId": "595b72ea-735a-45cb-b8db-4350fecbb1fc"
      },
      "execution_count": null,
      "outputs": [
        {
          "output_type": "stream",
          "name": "stdout",
          "text": [
            "Introdeix la teva nota del primer examen, sobre 10: 3\n",
            "Introdeix la teva nota del segon examen, sobre 10: 3\n",
            "Introdeix la teva nota del tercer examen, sobre 10: 3\n",
            "3.0\n",
            "Has suspes, tens la opcio a recuperar\n"
          ]
        }
      ]
    },
    {
      "cell_type": "markdown",
      "source": [
        "Demanar 3 nuemros, hi ha de mostrar e superior. (Si pots) Fer-ho en un ordre.\n",
        "\n"
      ],
      "metadata": {
        "id": "y_XWseBYurXb"
      }
    },
    {
      "cell_type": "code",
      "source": [
        "Variable_1 = float(input(\"Introdeix la primera variable: \"))\n",
        "Variable_2 = float(input(\"Introdeix la segona variable: \"))\n",
        "Variable_3 = float(input(\"Introdeix la tercera variable: \"))\n",
        "if (Variable_1 > Variable_2 and Variable_3):\n",
        "  print(Variable_1)\n",
        "elif (Variable_2 > Variable_1 and Variable_3):\n",
        "  print(Variable_2)\n",
        "else:\n",
        "\n",
        "  print(\"Has pasat de curs, pero compte\")"
      ],
      "metadata": {
        "id": "vhVMSV233GTX"
      },
      "execution_count": null,
      "outputs": []
    },
    {
      "cell_type": "markdown",
      "source": [
        "Que inserti uns valors, i hem digui si el valor es positiu, negatiu o cero."
      ],
      "metadata": {
        "id": "PmzuXhIKvcgM"
      }
    },
    {
      "cell_type": "code",
      "source": [
        "Variable_1 = float(input(\"Introdeix la primera variable: \"))\n",
        "Variable_2 = float(input(\"Introdeix la segona variable: \"))\n",
        "Variable_3 = float(input(\"Introdeix la tercera variable: \"))\n"
      ],
      "metadata": {
        "id": "FZplRBehyDPd"
      },
      "execution_count": null,
      "outputs": []
    },
    {
      "cell_type": "markdown",
      "source": [
        "Generar una contrasenya amb 7 condicionants"
      ],
      "metadata": {
        "id": "COQiMOOrrEnR"
      }
    },
    {
      "cell_type": "code",
      "source": [
        "Clau_de_seguretat = input(\"Introdueix la teva contrasenya: \")\n",
        "Lletres_mayuscules = [\"A\", \"B\",\"C\", \"D\", \"E\", \"F\", \"G\", \"H\", \"I\", \"J\", \"K\", \"L\", \"M\", \"N\", \"Ñ\", \"O\", \"P\", \"Q\", \"R\", \"S\", \"T\", \"U\", \"V\", \"W\", \"X\", \"Y\", \"Z\"]\n",
        "print (\"Aquestes son les condicions per crear la teva contrasenya:\")\n",
        "print (\"   -La contrasenya ha de tenir com a minim set caracters\")\n",
        "print (\"   -La contrasenya ha de tenir com a minim una majuscula\")\n",
        "print (\"   -La contrasenya ha de tenir com a minim una minuscula\")\n",
        "print (\"   -La contrasenya ha de tenir com a minim un caracter especial\")\n",
        "print (\"   -La contrasenya ha de tenir com a minim un numero\")\n",
        "print (\"   -La contrasenya ha de tenir com a maxim vint caracters\")\n",
        "print (\"   -La contrasenya ha de tenir com a minim un guió\")\n",
        "print (\"La teva contrasenya es: \" + Clau_de_seguretat)"
      ],
      "metadata": {
        "colab": {
          "base_uri": "https://localhost:8080/"
        },
        "id": "sqlMUJHyZ1sf",
        "outputId": "d189f55c-ea59-4260-e1f2-43298f226d9d"
      },
      "execution_count": null,
      "outputs": [
        {
          "output_type": "stream",
          "name": "stdout",
          "text": [
            "Introdueix la teva contrasenya: N YJ UJ JY\n",
            "Aquestes son les condicions per crear la teva contrasenya:\n",
            "   -La contrasenya ha de tenir com a minim set caracters\n",
            "   -La contrasenya ha de tenir com a minim una majuscula\n",
            "   -La contrasenya ha de tenir com a minim una minuscula\n",
            "   -La contrasenya ha de tenir com a minim un caracter especial\n",
            "   -La contrasenya ha de tenir com a minim un numero\n",
            "   -La contrasenya ha de tenir com a maxim vint caracters\n",
            "   -La contrasenya ha de tenir com a minim un guió\n",
            "La teva contrasenya es: N YJ UJ JY\n"
          ]
        }
      ]
    },
    {
      "cell_type": "code",
      "source": [],
      "metadata": {
        "colab": {
          "base_uri": "https://localhost:8080/"
        },
        "id": "sIuL56w2rPLC",
        "outputId": "c1e7d290-3e00-4414-9410-1d24d3aace3b"
      },
      "execution_count": null,
      "outputs": [
        {
          "output_type": "stream",
          "name": "stdout",
          "text": [
            "Introduce tu contraseña: antony56\n",
            "La contraseña debe tener al menos una letra mayúscula.\n",
            "La contraseña debe tener al menos un carácter especial (por ejemplo, @, #, $, &).\n",
            "Contraseña válida.\n"
          ]
        }
      ]
    },
    {
      "cell_type": "code",
      "source": [],
      "metadata": {
        "colab": {
          "base_uri": "https://localhost:8080/",
          "height": 106
        },
        "id": "8A4UlnTIxqpI",
        "outputId": "969bbd6e-b16c-49fa-e190-d9a49bef8184"
      },
      "execution_count": null,
      "outputs": [
        {
          "output_type": "error",
          "ename": "SyntaxError",
          "evalue": "cannot assign to expression (<ipython-input-15-87ed579c9fbd>, line 8)",
          "traceback": [
            "\u001b[0;36m  File \u001b[0;32m\"<ipython-input-15-87ed579c9fbd>\"\u001b[0;36m, line \u001b[0;32m8\u001b[0m\n\u001b[0;31m    letters[0] = a | letters[-1] = f\u001b[0m\n\u001b[0m                 ^\u001b[0m\n\u001b[0;31mSyntaxError\u001b[0m\u001b[0;31m:\u001b[0m cannot assign to expression\n"
          ]
        }
      ]
    },
    {
      "cell_type": "code",
      "source": [
        "import random\n",
        "\n",
        "print(' Generador de contrasenya amb següents característiquese:')\n",
        "print('   -Mínim 7 caràcters')\n",
        "print('   -Mínim 1 majúscula')\n",
        "print('   -Mínim 1 minúscula')\n",
        "print('   -Mínim 1 caràcter especial (només aquests caràcters especials: -, ?, !, @)')\n",
        "print('   -Mínim 1 número')\n",
        "print('   -Màxim 20 caràcters')\n",
        "print('   -Comença amb 1 guió')\n",
        "\n",
        "llista_de_minúscules = ['a', 'b', 'c', 'd', 'e', 'f', 'g', 'h', 'i', 'j', 'k', 'l', 'm', 'n', 'o', 'p', 'q', 'r', 's', 't', 'u', 'v', 'w', 'x', 'y', 'z']\n",
        "\n",
        "llista_de_majúscules = ['A', 'B', 'C', 'D', 'E', 'F', 'G', 'H', 'I', 'J', 'K', 'L', 'M', 'N', 'O', 'P', 'Q', 'R', 'S', 'T', 'U', 'V', 'W', 'X', 'Y', 'Z']\n",
        "\n",
        "llista_de_caràcters_especial = ['-', '?', '!', '@']\n",
        "\n",
        "contrasenya = '-'\n",
        "\n",
        "llargada = random.randint(7, 20)\n",
        "\n",
        "print(f'La contrasenya generada te {llargada} caràcters.')\n",
        "\n",
        "while len(contrasenya) < llargada:\n",
        "    i = random.randint(1, 3)\n",
        "    if i == 1:\n",
        "        i = random.randint(0, 25)\n",
        "        contrasenya += llista_de_minúscules[i]\n",
        "    elif i == 2:\n",
        "        i = random.randint(0, 25)\n",
        "        contrasenya += llista_de_majúscules[i]\n",
        "    else:\n",
        "        i = random.randint(0, 3)\n",
        "        contrasenya += llista_de_caràcters_especial[i]\n",
        "\n",
        "print(\"La contrasenya generada es:\" +str(contrasenya))"
      ],
      "metadata": {
        "colab": {
          "base_uri": "https://localhost:8080/"
        },
        "id": "OpOMp8LQGNtK",
        "outputId": "35ef793b-35a4-45e2-cc2b-00d51df9d8a4"
      },
      "execution_count": null,
      "outputs": [
        {
          "output_type": "stream",
          "name": "stdout",
          "text": [
            " Generador de contrasenya amb següents característiquese:\n",
            "   -Mínim 7 caràcters\n",
            "   -Mínim 1 majúscula\n",
            "   -Mínim 1 minúscula\n",
            "   -Mínim 1 caràcter especial (només aquests caràcter especial: -, ?, !, @)\n",
            "   -Mínim 1 número\n",
            "   -Màxim 20 caràcters\n",
            "   -Comença amb 1 guió\n",
            "La contrasenya generada te 16 caràcters.\n",
            "La contrasenya generada es:-xPt?a@Ztz-ZbPA!\n"
          ]
        }
      ]
    },
    {
      "cell_type": "markdown",
      "source": [
        "Fer una llista d'ingredients: Pa, llet, peix, nutella, 4, 15 i cervesa."
      ],
      "metadata": {
        "id": "wt8LljCmEp96"
      }
    },
    {
      "cell_type": "code",
      "source": [
        "llista = [\"Pa\" , \"Llet\" , \"Peix\" , \"Nutella\" , \"4\" , \"15\" , \"Cervesa\"]\n",
        "print (llista)\n",
        "print (llista [2])\n",
        "llista.remove(\"Llet\")\n",
        "llista.pop (2)\n",
        "print (llista)\n",
        "llista.append (\"zehui\")\n",
        "print (llista)\n"
      ],
      "metadata": {
        "colab": {
          "base_uri": "https://localhost:8080/"
        },
        "id": "LqxmtfUEFDd4",
        "outputId": "9cf14432-f37a-4ecc-9bbb-978b0b4ff93e"
      },
      "execution_count": null,
      "outputs": [
        {
          "output_type": "stream",
          "name": "stdout",
          "text": [
            "['Pa', 'Llet', 'Peix', 'Nutella', '4', '15', 'Cervesa']\n",
            "Peix\n",
            "['Pa', 'Peix', '4', '15', 'Cervesa']\n",
            "['Pa', 'Peix', '4', '15', 'Cervesa', 'zehui']\n"
          ]
        }
      ]
    },
    {
      "cell_type": "markdown",
      "source": [
        "Crearem una llista que es digui setmana que tingui els dies de dillunas a divenderes menys el dijous. Despres afegirem dissabte i diumenge. Despres posarem el dijous en el seu lloc. Un cop la setmana completa, afegirem el divendres(3). Li demanarema la variable cuants divendres hi ha a la llista, despres eliminarem els divendres que sobrin. I depsres farem un text que es vegi el nombre de divendres que hi havia abans d'esborrar-los."
      ],
      "metadata": {
        "id": "UJKdKYEcMEOk"
      }
    },
    {
      "cell_type": "code",
      "source": [
        "setmana = [\"dilluns\" , \"dimarts\" , \"dimecres\" , \"divendres\"]\n",
        "print (\"1. \" +str(setmana))\n",
        "setmana.append(\"dissabte, diumenge\")\n",
        "print (\"2. \" +str(setmana))\n",
        "setmana.insert(3, \"dijoous\")\n",
        "print (\"3. \" +str(setmana))\n",
        "setmana.append(\"divendres\")\n",
        "setmana.append(\"divendres\")\n",
        "print (\"4. \" +str(setmana))\n",
        "x=setmana.count(\"divendres\")\n",
        "setmana.pop(7)\n",
        "setmana.pop(6)\n",
        "print (setmana)\n",
        "print(\"El numero de divendres abans de borrar-los eran: \" +str(x))"
      ],
      "metadata": {
        "colab": {
          "base_uri": "https://localhost:8080/"
        },
        "id": "vnDK5NMsNRyX",
        "outputId": "d9a233a0-a37c-4696-b63d-96257b639972"
      },
      "execution_count": 46,
      "outputs": [
        {
          "output_type": "stream",
          "name": "stdout",
          "text": [
            "1. ['dilluns', 'dimarts', 'dimecres', 'divendres']\n",
            "2. ['dilluns', 'dimarts', 'dimecres', 'divendres', 'dissabte, diumenge']\n",
            "3. ['dilluns', 'dimarts', 'dimecres', 'dijoous', 'divendres', 'dissabte, diumenge']\n",
            "4. ['dilluns', 'dimarts', 'dimecres', 'dijoous', 'divendres', 'dissabte, diumenge', 'divendres', 'divendres']\n",
            "['dilluns', 'dimarts', 'dimecres', 'dijoous', 'divendres', 'dissabte, diumenge']\n",
            "El numero de divendres abans de borrar-los era de: 3\n"
          ]
        }
      ]
    },
    {
      "cell_type": "code",
      "source": [
        "x= range(3,20, 2)\n",
        "for i in x:\n",
        "  print(i)\n"
      ],
      "metadata": {
        "colab": {
          "base_uri": "https://localhost:8080/"
        },
        "id": "OhVhgUBaqC0t",
        "outputId": "845f543e-5570-47d1-ecd6-1ac1dcffe686"
      },
      "execution_count": null,
      "outputs": [
        {
          "output_type": "stream",
          "name": "stdout",
          "text": [
            "3\n",
            "5\n",
            "7\n",
            "9\n",
            "11\n",
            "13\n",
            "15\n",
            "17\n",
            "19\n"
          ]
        }
      ]
    },
    {
      "cell_type": "code",
      "source": [
        "x= range(32,18,-2)\n",
        "for i in x:\n",
        "  print(i)"
      ],
      "metadata": {
        "colab": {
          "base_uri": "https://localhost:8080/"
        },
        "id": "wustZjOUrLBS",
        "outputId": "ef9d4ed6-63b8-45f1-b25d-388735cf9a9d"
      },
      "execution_count": null,
      "outputs": [
        {
          "output_type": "stream",
          "name": "stdout",
          "text": [
            "32\n",
            "30\n",
            "28\n",
            "26\n",
            "24\n",
            "22\n",
            "20\n"
          ]
        }
      ]
    },
    {
      "cell_type": "markdown",
      "source": [
        "fer una llista que contingui els numeros: 7 5 28 12 11 0 4. Aquesta llista es la llista 1."
      ],
      "metadata": {
        "id": "xiRA59VPrfKf"
      }
    },
    {
      "cell_type": "code",
      "source": [
        "llista_1= [7, 5, 28, 0, 11, 12, 4]\n",
        "print(max(llista_1))\n",
        "print(\"_________________________________________________________________________\")\n",
        "print(min(llista_1))\n",
        "print(\"          \")\n",
        "print(sum(llista_1))"
      ],
      "metadata": {
        "colab": {
          "base_uri": "https://localhost:8080/"
        },
        "id": "Y1Bb8caerts9",
        "outputId": "cb41eb63-915f-4629-a74e-ec21e26ae6eb"
      },
      "execution_count": null,
      "outputs": [
        {
          "output_type": "stream",
          "name": "stdout",
          "text": [
            "28\n",
            "_________________________________________________________________________\n",
            "0\n",
            "          \n",
            "67\n"
          ]
        }
      ]
    },
    {
      "cell_type": "markdown",
      "source": [
        "crea una llista de la setmana que va de dilluns-dimecres"
      ],
      "metadata": {
        "id": "sUk4Bjy4ve5L"
      }
    },
    {
      "cell_type": "code",
      "source": [
        "setmana= [\"1. dilluns\" , \"2. dimarts\" , \"3. dimecres\"]\n",
        "for dia in setmana:\n",
        "  print(dia)\n",
        "\n",
        "print(\"S'ha acabat!\")"
      ],
      "metadata": {
        "id": "dq2XJGiywKe1",
        "colab": {
          "base_uri": "https://localhost:8080/"
        },
        "outputId": "d4286486-8408-4fe1-975a-f008ece3bb1e"
      },
      "execution_count": 42,
      "outputs": [
        {
          "output_type": "stream",
          "name": "stdout",
          "text": [
            "1. dilluns\n",
            "2. dimarts\n",
            "3. dimecres\n",
            "S'ha acabat!\n"
          ]
        }
      ]
    },
    {
      "cell_type": "code",
      "source": [
        "abecedario= [\"a\",\"b\",\"c\",\"d\",\"e\"]"
      ],
      "metadata": {
        "id": "Fm9YAtEDyDBl"
      },
      "execution_count": null,
      "outputs": []
    }
  ]
}